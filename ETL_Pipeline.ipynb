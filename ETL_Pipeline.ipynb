{
 "cells": [
  {
   "cell_type": "markdown",
   "metadata": {},
   "source": [
    "Load all requisite packages to build this pipeline"
   ]
  },
  {
   "cell_type": "code",
   "execution_count": 1,
   "metadata": {},
   "outputs": [],
   "source": [
    "import numpy as np\n",
    "import pandas as pd\n",
    "import requests\n",
    "import json\n",
    "import boto3\n",
    "import s3fs\n",
    "from datetime import date, timedelta\n",
    "import csv\n",
    "import mysql.connector\n",
    "import pymysql\n",
    "import sys"
   ]
  },
  {
   "cell_type": "markdown",
   "metadata": {},
   "source": [
    "# Part I: Extract"
   ]
  },
  {
   "cell_type": "markdown",
   "metadata": {},
   "source": [
    "Let's scrape pollution data from the openaq API"
   ]
  },
  {
   "cell_type": "code",
   "execution_count": 2,
   "metadata": {},
   "outputs": [
    {
     "name": "stdout",
     "output_type": "stream",
     "text": [
      "00 11\n",
      "12 23\n"
     ]
    },
    {
     "data": {
      "text/html": [
       "<div>\n",
       "<style scoped>\n",
       "    .dataframe tbody tr th:only-of-type {\n",
       "        vertical-align: middle;\n",
       "    }\n",
       "\n",
       "    .dataframe tbody tr th {\n",
       "        vertical-align: top;\n",
       "    }\n",
       "\n",
       "    .dataframe thead th {\n",
       "        text-align: right;\n",
       "    }\n",
       "</style>\n",
       "<table border=\"1\" class=\"dataframe\">\n",
       "  <thead>\n",
       "    <tr style=\"text-align: right;\">\n",
       "      <th></th>\n",
       "      <th>city</th>\n",
       "      <th>coordinates</th>\n",
       "      <th>country</th>\n",
       "      <th>date</th>\n",
       "      <th>location</th>\n",
       "      <th>parameter</th>\n",
       "      <th>unit</th>\n",
       "      <th>value</th>\n",
       "    </tr>\n",
       "  </thead>\n",
       "  <tbody>\n",
       "    <tr>\n",
       "      <th>0</th>\n",
       "      <td>MATANUSKA-SUSITNA</td>\n",
       "      <td>{'latitude': 61.534163, 'longitude': -149.031655}</td>\n",
       "      <td>US</td>\n",
       "      <td>{'utc': '2020-06-28T11:00:00.000Z', 'local': '...</td>\n",
       "      <td>Butte (Harrison Cour</td>\n",
       "      <td>pm25</td>\n",
       "      <td>µg/m³</td>\n",
       "      <td>5.0</td>\n",
       "    </tr>\n",
       "    <tr>\n",
       "      <th>1</th>\n",
       "      <td>LA PAZ</td>\n",
       "      <td>{'latitude': 34.243889, 'longitude': -113.558611}</td>\n",
       "      <td>US</td>\n",
       "      <td>{'utc': '2020-06-28T11:00:00.000Z', 'local': '...</td>\n",
       "      <td>Alamo Lake</td>\n",
       "      <td>pm25</td>\n",
       "      <td>µg/m³</td>\n",
       "      <td>5.0</td>\n",
       "    </tr>\n",
       "    <tr>\n",
       "      <th>2</th>\n",
       "      <td>Riverside-San Bernardino-Ontario</td>\n",
       "      <td>{'latitude': 33.999449, 'longitude': -117.415831}</td>\n",
       "      <td>US</td>\n",
       "      <td>{'utc': '2020-06-28T11:00:00.000Z', 'local': '...</td>\n",
       "      <td>Riverside - Rubidoux</td>\n",
       "      <td>pm25</td>\n",
       "      <td>µg/m³</td>\n",
       "      <td>8.0</td>\n",
       "    </tr>\n",
       "    <tr>\n",
       "      <th>3</th>\n",
       "      <td>Phoenix-Mesa-Scottsdale</td>\n",
       "      <td>{'latitude': 33.503601, 'longitude': -112.095001}</td>\n",
       "      <td>US</td>\n",
       "      <td>{'utc': '2020-06-28T11:00:00.000Z', 'local': '...</td>\n",
       "      <td>Phoenix JLG Supersit</td>\n",
       "      <td>pm25</td>\n",
       "      <td>µg/m³</td>\n",
       "      <td>6.0</td>\n",
       "    </tr>\n",
       "    <tr>\n",
       "      <th>4</th>\n",
       "      <td>PIMA</td>\n",
       "      <td>{'latitude': 32.322573, 'longitude': -111.037709}</td>\n",
       "      <td>US</td>\n",
       "      <td>{'utc': '2020-06-28T11:00:00.000Z', 'local': '...</td>\n",
       "      <td>Orange Grove</td>\n",
       "      <td>pm25</td>\n",
       "      <td>µg/m³</td>\n",
       "      <td>4.0</td>\n",
       "    </tr>\n",
       "  </tbody>\n",
       "</table>\n",
       "</div>"
      ],
      "text/plain": [
       "                               city  \\\n",
       "0                 MATANUSKA-SUSITNA   \n",
       "1                            LA PAZ   \n",
       "2  Riverside-San Bernardino-Ontario   \n",
       "3           Phoenix-Mesa-Scottsdale   \n",
       "4                              PIMA   \n",
       "\n",
       "                                         coordinates country  \\\n",
       "0  {'latitude': 61.534163, 'longitude': -149.031655}      US   \n",
       "1  {'latitude': 34.243889, 'longitude': -113.558611}      US   \n",
       "2  {'latitude': 33.999449, 'longitude': -117.415831}      US   \n",
       "3  {'latitude': 33.503601, 'longitude': -112.095001}      US   \n",
       "4  {'latitude': 32.322573, 'longitude': -111.037709}      US   \n",
       "\n",
       "                                                date              location  \\\n",
       "0  {'utc': '2020-06-28T11:00:00.000Z', 'local': '...  Butte (Harrison Cour   \n",
       "1  {'utc': '2020-06-28T11:00:00.000Z', 'local': '...            Alamo Lake   \n",
       "2  {'utc': '2020-06-28T11:00:00.000Z', 'local': '...  Riverside - Rubidoux   \n",
       "3  {'utc': '2020-06-28T11:00:00.000Z', 'local': '...  Phoenix JLG Supersit   \n",
       "4  {'utc': '2020-06-28T11:00:00.000Z', 'local': '...          Orange Grove   \n",
       "\n",
       "  parameter   unit  value  \n",
       "0      pm25  µg/m³    5.0  \n",
       "1      pm25  µg/m³    5.0  \n",
       "2      pm25  µg/m³    8.0  \n",
       "3      pm25  µg/m³    6.0  \n",
       "4      pm25  µg/m³    4.0  "
      ]
     },
     "execution_count": 2,
     "metadata": {},
     "output_type": "execute_result"
    }
   ],
   "source": [
    "# url for openaq api\n",
    "url = \"https://api.openaq.org/v1/measurements\"\n",
    "\n",
    "# specify time parameters\n",
    "yesterday = date.today() - timedelta(days=1) # since data will be collected on following day\n",
    "yesterday =  yesterday.strftime('%Y-%m-%d') \n",
    "time_steps = [(\"00\",\"11\"), (\"12\",\"23\")] # necessary since too much data cannot be scraped at once\n",
    "\n",
    "# list to store data\n",
    "df = []\n",
    "\n",
    "# Let's scrape!\n",
    "for i,j in time_steps:\n",
    "        \n",
    "    print(i,j)\n",
    "\n",
    "    parameters = {\n",
    "    \"country\": \"US\",\n",
    "    \"limit\": 10000, # 10000 is enough to collect data for half a day \n",
    "    \"has_geo\": True,\n",
    "    \"parameter\": \"pm25\",   # for multiple parameters --> \"parameter[]\": {\"pm25\",\"o3\"}  \n",
    "    \"date_from\": yesterday + \"T\" + i + \":00:00\",\n",
    "    \"date_to\" : yesterday + \"T\" + j + \":59:00\"}\n",
    "\n",
    "    response = requests.request(\"GET\", url, params=parameters) \n",
    "\n",
    "    response_json = response.json()  \n",
    "    \n",
    "    results_list = response_json['results']\n",
    "    \n",
    "    x = pd.DataFrame(results_list)\n",
    "\n",
    "    df.append(x)\n",
    "\n",
    "df = pd.concat(df, ignore_index = True)\n",
    "\n",
    "df.head()  "
   ]
  },
  {
   "cell_type": "markdown",
   "metadata": {},
   "source": [
    "We can see that the openaq API does not provide state names. This is an issue since there are many cities with the same names across the country. To procure state names, I use Google's geocode API which can be seen in the Collect_States file. "
   ]
  },
  {
   "cell_type": "markdown",
   "metadata": {},
   "source": [
    "# Part II: Transform"
   ]
  },
  {
   "cell_type": "markdown",
   "metadata": {},
   "source": [
    "Clean columns and remove rows with missing values "
   ]
  },
  {
   "cell_type": "code",
   "execution_count": 3,
   "metadata": {},
   "outputs": [],
   "source": [
    "# only select first part of hyphenated city to align with geocode API data  \n",
    "df['city'] = df['city'].str.split('-').str[0]\n",
    "\n",
    "# make everything capital for consistency\n",
    "df['city'] = df['city'].str.upper()\n",
    "df['location'] = df['location'].str.upper()\n",
    "\n",
    "# only keep non null records \n",
    "df = df.where((pd.notnull(df)), None)"
   ]
  },
  {
   "cell_type": "markdown",
   "metadata": {},
   "source": [
    "Split date and coordinates columns"
   ]
  },
  {
   "cell_type": "code",
   "execution_count": 4,
   "metadata": {},
   "outputs": [
    {
     "data": {
      "text/html": [
       "<div>\n",
       "<style scoped>\n",
       "    .dataframe tbody tr th:only-of-type {\n",
       "        vertical-align: middle;\n",
       "    }\n",
       "\n",
       "    .dataframe tbody tr th {\n",
       "        vertical-align: top;\n",
       "    }\n",
       "\n",
       "    .dataframe thead th {\n",
       "        text-align: right;\n",
       "    }\n",
       "</style>\n",
       "<table border=\"1\" class=\"dataframe\">\n",
       "  <thead>\n",
       "    <tr style=\"text-align: right;\">\n",
       "      <th></th>\n",
       "      <th>city</th>\n",
       "      <th>country</th>\n",
       "      <th>location</th>\n",
       "      <th>parameter</th>\n",
       "      <th>unit</th>\n",
       "      <th>value</th>\n",
       "      <th>utc</th>\n",
       "      <th>local</th>\n",
       "      <th>latitude</th>\n",
       "      <th>longitude</th>\n",
       "    </tr>\n",
       "  </thead>\n",
       "  <tbody>\n",
       "    <tr>\n",
       "      <th>0</th>\n",
       "      <td>MATANUSKA</td>\n",
       "      <td>US</td>\n",
       "      <td>BUTTE (HARRISON COUR</td>\n",
       "      <td>pm25</td>\n",
       "      <td>µg/m³</td>\n",
       "      <td>5.0</td>\n",
       "      <td>2020-06-28T11</td>\n",
       "      <td>2020-06-28T02</td>\n",
       "      <td>61.534163</td>\n",
       "      <td>-149.031655</td>\n",
       "    </tr>\n",
       "    <tr>\n",
       "      <th>1</th>\n",
       "      <td>LA PAZ</td>\n",
       "      <td>US</td>\n",
       "      <td>ALAMO LAKE</td>\n",
       "      <td>pm25</td>\n",
       "      <td>µg/m³</td>\n",
       "      <td>5.0</td>\n",
       "      <td>2020-06-28T11</td>\n",
       "      <td>2020-06-28T04</td>\n",
       "      <td>34.243889</td>\n",
       "      <td>-113.558611</td>\n",
       "    </tr>\n",
       "    <tr>\n",
       "      <th>2</th>\n",
       "      <td>RIVERSIDE</td>\n",
       "      <td>US</td>\n",
       "      <td>RIVERSIDE - RUBIDOUX</td>\n",
       "      <td>pm25</td>\n",
       "      <td>µg/m³</td>\n",
       "      <td>8.0</td>\n",
       "      <td>2020-06-28T11</td>\n",
       "      <td>2020-06-28T03</td>\n",
       "      <td>33.999449</td>\n",
       "      <td>-117.415831</td>\n",
       "    </tr>\n",
       "    <tr>\n",
       "      <th>3</th>\n",
       "      <td>PHOENIX</td>\n",
       "      <td>US</td>\n",
       "      <td>PHOENIX JLG SUPERSIT</td>\n",
       "      <td>pm25</td>\n",
       "      <td>µg/m³</td>\n",
       "      <td>6.0</td>\n",
       "      <td>2020-06-28T11</td>\n",
       "      <td>2020-06-28T04</td>\n",
       "      <td>33.503601</td>\n",
       "      <td>-112.095001</td>\n",
       "    </tr>\n",
       "    <tr>\n",
       "      <th>4</th>\n",
       "      <td>PIMA</td>\n",
       "      <td>US</td>\n",
       "      <td>ORANGE GROVE</td>\n",
       "      <td>pm25</td>\n",
       "      <td>µg/m³</td>\n",
       "      <td>4.0</td>\n",
       "      <td>2020-06-28T11</td>\n",
       "      <td>2020-06-28T04</td>\n",
       "      <td>32.322573</td>\n",
       "      <td>-111.037709</td>\n",
       "    </tr>\n",
       "  </tbody>\n",
       "</table>\n",
       "</div>"
      ],
      "text/plain": [
       "        city country              location parameter   unit  value  \\\n",
       "0  MATANUSKA      US  BUTTE (HARRISON COUR      pm25  µg/m³    5.0   \n",
       "1     LA PAZ      US            ALAMO LAKE      pm25  µg/m³    5.0   \n",
       "2  RIVERSIDE      US  RIVERSIDE - RUBIDOUX      pm25  µg/m³    8.0   \n",
       "3    PHOENIX      US  PHOENIX JLG SUPERSIT      pm25  µg/m³    6.0   \n",
       "4       PIMA      US          ORANGE GROVE      pm25  µg/m³    4.0   \n",
       "\n",
       "             utc          local   latitude   longitude  \n",
       "0  2020-06-28T11  2020-06-28T02  61.534163 -149.031655  \n",
       "1  2020-06-28T11  2020-06-28T04  34.243889 -113.558611  \n",
       "2  2020-06-28T11  2020-06-28T03  33.999449 -117.415831  \n",
       "3  2020-06-28T11  2020-06-28T04  33.503601 -112.095001  \n",
       "4  2020-06-28T11  2020-06-28T04  32.322573 -111.037709  "
      ]
     },
     "execution_count": 4,
     "metadata": {},
     "output_type": "execute_result"
    }
   ],
   "source": [
    "## Date\n",
    "# change from object to string\n",
    "df[\"date\"] = df[\"date\"].astype(str)\n",
    "\n",
    "# split column by comma\n",
    "new = df[\"date\"].str.split(\",\", n = 1, expand = True) \n",
    "\n",
    "# add split columns\n",
    "df[\"utc\"] = new[0] \n",
    "df[\"local\"] = new[1] \n",
    "\n",
    "# keep only numbers\n",
    "df['utc'] = df['utc'].str.split(':').str[1]\n",
    "df['utc'] = df['utc'].map(lambda x: x.lstrip(\"' \"))\n",
    "\n",
    "df['local'] = df['local'].str.split(':').str[1]\n",
    "df['local'] = df['local'].map(lambda x: x.lstrip(\"' \"))\n",
    "\n",
    "\n",
    "\n",
    "## Coordinates\n",
    "# change from object to string\n",
    "df[\"coordinates\"] = df[\"coordinates\"].astype(str)\n",
    "\n",
    "# split column by comma\n",
    "new = df[\"coordinates\"].str.split(\",\", n = 1, expand = True) \n",
    "\n",
    "# add split columns\n",
    "df[\"latitude\"] = new[0] \n",
    "df[\"longitude\"] = new[1] \n",
    "\n",
    "# keep only numbers\n",
    "df['latitude'] = df['latitude'].str.split(':').str[1]\n",
    "df['latitude'] = pd.to_numeric(df['latitude'])\n",
    "\n",
    "df['longitude'] = df['longitude'].map(lambda x: x.rstrip('}'))\n",
    "df['longitude'] = df['longitude'].str.split(':').str[1]\n",
    "df['longitude'] = pd.to_numeric(df['longitude'])\n",
    "\n",
    "\n",
    "# drop old columns\n",
    "df = df.drop(columns = [\"date\", \"coordinates\"])\n",
    "df.head()"
   ]
  },
  {
   "cell_type": "markdown",
   "metadata": {},
   "source": [
    "Hours is attached to date i.e. T23, so let's split that into another column"
   ]
  },
  {
   "cell_type": "code",
   "execution_count": 5,
   "metadata": {},
   "outputs": [
    {
     "data": {
      "text/html": [
       "<div>\n",
       "<style scoped>\n",
       "    .dataframe tbody tr th:only-of-type {\n",
       "        vertical-align: middle;\n",
       "    }\n",
       "\n",
       "    .dataframe tbody tr th {\n",
       "        vertical-align: top;\n",
       "    }\n",
       "\n",
       "    .dataframe thead th {\n",
       "        text-align: right;\n",
       "    }\n",
       "</style>\n",
       "<table border=\"1\" class=\"dataframe\">\n",
       "  <thead>\n",
       "    <tr style=\"text-align: right;\">\n",
       "      <th></th>\n",
       "      <th>city</th>\n",
       "      <th>country</th>\n",
       "      <th>location</th>\n",
       "      <th>parameter</th>\n",
       "      <th>unit</th>\n",
       "      <th>value</th>\n",
       "      <th>utc</th>\n",
       "      <th>local</th>\n",
       "      <th>latitude</th>\n",
       "      <th>longitude</th>\n",
       "      <th>hour_utc</th>\n",
       "      <th>hour_local</th>\n",
       "    </tr>\n",
       "  </thead>\n",
       "  <tbody>\n",
       "    <tr>\n",
       "      <th>0</th>\n",
       "      <td>MATANUSKA</td>\n",
       "      <td>US</td>\n",
       "      <td>BUTTE (HARRISON COUR</td>\n",
       "      <td>pm25</td>\n",
       "      <td>µg/m³</td>\n",
       "      <td>5.0</td>\n",
       "      <td>2020-06-28</td>\n",
       "      <td>2020-06-28</td>\n",
       "      <td>61.534163</td>\n",
       "      <td>-149.031655</td>\n",
       "      <td>11</td>\n",
       "      <td>02</td>\n",
       "    </tr>\n",
       "    <tr>\n",
       "      <th>1</th>\n",
       "      <td>LA PAZ</td>\n",
       "      <td>US</td>\n",
       "      <td>ALAMO LAKE</td>\n",
       "      <td>pm25</td>\n",
       "      <td>µg/m³</td>\n",
       "      <td>5.0</td>\n",
       "      <td>2020-06-28</td>\n",
       "      <td>2020-06-28</td>\n",
       "      <td>34.243889</td>\n",
       "      <td>-113.558611</td>\n",
       "      <td>11</td>\n",
       "      <td>04</td>\n",
       "    </tr>\n",
       "    <tr>\n",
       "      <th>2</th>\n",
       "      <td>RIVERSIDE</td>\n",
       "      <td>US</td>\n",
       "      <td>RIVERSIDE - RUBIDOUX</td>\n",
       "      <td>pm25</td>\n",
       "      <td>µg/m³</td>\n",
       "      <td>8.0</td>\n",
       "      <td>2020-06-28</td>\n",
       "      <td>2020-06-28</td>\n",
       "      <td>33.999449</td>\n",
       "      <td>-117.415831</td>\n",
       "      <td>11</td>\n",
       "      <td>03</td>\n",
       "    </tr>\n",
       "    <tr>\n",
       "      <th>3</th>\n",
       "      <td>PHOENIX</td>\n",
       "      <td>US</td>\n",
       "      <td>PHOENIX JLG SUPERSIT</td>\n",
       "      <td>pm25</td>\n",
       "      <td>µg/m³</td>\n",
       "      <td>6.0</td>\n",
       "      <td>2020-06-28</td>\n",
       "      <td>2020-06-28</td>\n",
       "      <td>33.503601</td>\n",
       "      <td>-112.095001</td>\n",
       "      <td>11</td>\n",
       "      <td>04</td>\n",
       "    </tr>\n",
       "    <tr>\n",
       "      <th>4</th>\n",
       "      <td>PIMA</td>\n",
       "      <td>US</td>\n",
       "      <td>ORANGE GROVE</td>\n",
       "      <td>pm25</td>\n",
       "      <td>µg/m³</td>\n",
       "      <td>4.0</td>\n",
       "      <td>2020-06-28</td>\n",
       "      <td>2020-06-28</td>\n",
       "      <td>32.322573</td>\n",
       "      <td>-111.037709</td>\n",
       "      <td>11</td>\n",
       "      <td>04</td>\n",
       "    </tr>\n",
       "  </tbody>\n",
       "</table>\n",
       "</div>"
      ],
      "text/plain": [
       "        city country              location parameter   unit  value  \\\n",
       "0  MATANUSKA      US  BUTTE (HARRISON COUR      pm25  µg/m³    5.0   \n",
       "1     LA PAZ      US            ALAMO LAKE      pm25  µg/m³    5.0   \n",
       "2  RIVERSIDE      US  RIVERSIDE - RUBIDOUX      pm25  µg/m³    8.0   \n",
       "3    PHOENIX      US  PHOENIX JLG SUPERSIT      pm25  µg/m³    6.0   \n",
       "4       PIMA      US          ORANGE GROVE      pm25  µg/m³    4.0   \n",
       "\n",
       "          utc       local   latitude   longitude hour_utc hour_local  \n",
       "0  2020-06-28  2020-06-28  61.534163 -149.031655       11         02  \n",
       "1  2020-06-28  2020-06-28  34.243889 -113.558611       11         04  \n",
       "2  2020-06-28  2020-06-28  33.999449 -117.415831       11         03  \n",
       "3  2020-06-28  2020-06-28  33.503601 -112.095001       11         04  \n",
       "4  2020-06-28  2020-06-28  32.322573 -111.037709       11         04  "
      ]
     },
     "execution_count": 5,
     "metadata": {},
     "output_type": "execute_result"
    }
   ],
   "source": [
    "# Split utc time\n",
    "\n",
    "# first split time\n",
    "hour = df[\"utc\"].str.split(\"T\", n = 1, expand = True)\n",
    "# add split columns\n",
    "df[\"hour_utc\"] = hour[1] \n",
    "# strip T and after from utc\n",
    "df['utc'] = df['utc'].str.split('T').str[0]\n",
    "\n",
    "\n",
    "# Split local time\n",
    "\n",
    "# first split time\n",
    "hour = df[\"local\"].str.split(\"T\", n = 1, expand = True)\n",
    "# add split columns\n",
    "df[\"hour_local\"] = hour[1] \n",
    "# strip T and after from local\n",
    "df['local'] = df['local'].str.split('T').str[0]\n",
    "\n",
    "df.head()"
   ]
  },
  {
   "cell_type": "markdown",
   "metadata": {},
   "source": [
    "# Part III: Load"
   ]
  },
  {
   "cell_type": "markdown",
   "metadata": {},
   "source": [
    "I previously created a MySQL database and loaded tables with historical data (collected using Amazon Athena)"
   ]
  },
  {
   "cell_type": "code",
   "execution_count": 6,
   "metadata": {},
   "outputs": [],
   "source": [
    "## create openaq database\n",
    "\n",
    "# mydb = mysql.connector.connect (\n",
    "#     host = \"localhost\",\n",
    "#     user = \"root\",\n",
    "#     passwd = \"*********\")\n",
    "\n",
    "# cur = mydb.cursor()\n",
    "\n",
    "# cur.execute(\"CREATE DATABASE openaq\")\n",
    "\n",
    "# print(\"Database created successfully\")"
   ]
  },
  {
   "cell_type": "markdown",
   "metadata": {},
   "source": [
    "Now that the historical data is loaded, I can update the tables daily with new pollution data "
   ]
  },
  {
   "cell_type": "code",
   "execution_count": 7,
   "metadata": {},
   "outputs": [
    {
     "name": "stdout",
     "output_type": "stream",
     "text": [
      "Database opened successfully\n"
     ]
    }
   ],
   "source": [
    "#connect to mysql openaq database\n",
    "mydb = mysql.connector.connect (\n",
    "    host = \"localhost\",\n",
    "    user = \"root\",\n",
    "    passwd = \"********\",\n",
    "    database = \"openaq\")\n",
    "\n",
    "print(\"Database opened successfully\")"
   ]
  },
  {
   "cell_type": "markdown",
   "metadata": {},
   "source": [
    "Drop pollution table since it contains old, openaq data"
   ]
  },
  {
   "cell_type": "code",
   "execution_count": 8,
   "metadata": {},
   "outputs": [
    {
     "name": "stdout",
     "output_type": "stream",
     "text": [
      "Table dropped... \n"
     ]
    }
   ],
   "source": [
    "#drop pollution table\n",
    "cur = mydb.cursor()\n",
    "cur.execute(\"DROP TABLE pollution\")\n",
    "print(\"Table dropped... \")"
   ]
  },
  {
   "cell_type": "markdown",
   "metadata": {},
   "source": [
    "Recreate the 'pollution' table\n",
    "\n",
    "Note: 'state' table contains corresponding states for cities in pollution table (collected using Google's geocode API)"
   ]
  },
  {
   "cell_type": "code",
   "execution_count": 9,
   "metadata": {},
   "outputs": [
    {
     "name": "stdout",
     "output_type": "stream",
     "text": [
      "Table created successfully\n"
     ]
    }
   ],
   "source": [
    "cur = mydb.cursor()\n",
    "\n",
    "cur.execute(\"CREATE TABLE pollution (city VARCHAR(50), country VARCHAR(50), location VARCHAR(50), parameter VARCHAR(50), unit VARCHAR(50), value FLOAT(10), utc DATE, local DATE, latitude FLOAT(10), longitude FLOAT(10), hour_utc INT, hour_local INT)\")\n",
    "\n",
    "print(\"Table created successfully\")\n",
    "\n",
    "# cur.execute(\"CREATE TABLE state (state VARCHAR(50), city VARCHAR(50), min_lat FLOAT(10), max_lat FLOAT(10), min_long FLOAT(10), max_long FLOAT(10))\")\n",
    "\n",
    "# print(\"Table created successfully\")"
   ]
  },
  {
   "cell_type": "markdown",
   "metadata": {},
   "source": [
    "Populate 'pollution' table with the most recent pollution data\n",
    "\n",
    "Note: 'state' table does not need to be updated since state names are nontemporal "
   ]
  },
  {
   "cell_type": "code",
   "execution_count": 10,
   "metadata": {},
   "outputs": [
    {
     "name": "stdout",
     "output_type": "stream",
     "text": [
      "Done\n"
     ]
    }
   ],
   "source": [
    "# pollution\n",
    "df = df.where((pd.notnull(df)), None)\n",
    "cur = mydb.cursor()\n",
    "\n",
    "# creating column list for insertion\n",
    "cols = \",\".join([str(i) for i in df.columns.tolist()])\n",
    "\n",
    "# Insert DataFrame records one by one.\n",
    "for i,row in df.iterrows():\n",
    "    sql = \"INSERT INTO pollution (\" +cols+ \") VALUES (\" + \"%s,\"*(len(row)-1) + \"%s)\"\n",
    "    cur.execute(sql, tuple(row))\n",
    "    \n",
    "mydb.commit()\n",
    "\n",
    "\n",
    "#state\n",
    "\n",
    "# cur = mydb.cursor()\n",
    "\n",
    "# with open(\"/Users/halabanz/Desktop/openaq_project/state/state_final_update.csv\", 'r', encoding='utf-8',\n",
    "#                  errors='ignore') as f:\n",
    "#     reader = csv.reader(f)\n",
    "#     next(reader) # Skip the header row.\n",
    "#     for row in reader:\n",
    "#         cur.execute(\"INSERT INTO state (state, city, min_lat, max_lat, min_long, max_long) VALUES (%s, %s, %s, %s, %s, %s)\", row)\n",
    "        \n",
    "# mydb.commit()\n",
    "\n",
    "print(\"Done\")"
   ]
  },
  {
   "cell_type": "markdown",
   "metadata": {},
   "source": [
    "Merge 'pollution' and 'state' tables to get the corresponding state for each city"
   ]
  },
  {
   "cell_type": "code",
   "execution_count": 11,
   "metadata": {},
   "outputs": [
    {
     "data": {
      "text/html": [
       "<div>\n",
       "<style scoped>\n",
       "    .dataframe tbody tr th:only-of-type {\n",
       "        vertical-align: middle;\n",
       "    }\n",
       "\n",
       "    .dataframe tbody tr th {\n",
       "        vertical-align: top;\n",
       "    }\n",
       "\n",
       "    .dataframe thead th {\n",
       "        text-align: right;\n",
       "    }\n",
       "</style>\n",
       "<table border=\"1\" class=\"dataframe\">\n",
       "  <thead>\n",
       "    <tr style=\"text-align: right;\">\n",
       "      <th></th>\n",
       "      <th>location</th>\n",
       "      <th>city</th>\n",
       "      <th>state</th>\n",
       "      <th>country</th>\n",
       "      <th>value</th>\n",
       "      <th>unit</th>\n",
       "      <th>parameter</th>\n",
       "      <th>utc</th>\n",
       "      <th>local</th>\n",
       "      <th>latitude</th>\n",
       "      <th>longitude</th>\n",
       "      <th>hour_utc</th>\n",
       "      <th>hour_local</th>\n",
       "    </tr>\n",
       "  </thead>\n",
       "  <tbody>\n",
       "    <tr>\n",
       "      <th>0</th>\n",
       "      <td>RIVERSIDE - RUBIDOUX</td>\n",
       "      <td>RIVERSIDE</td>\n",
       "      <td>CA</td>\n",
       "      <td>US</td>\n",
       "      <td>8.0</td>\n",
       "      <td>µg/m³</td>\n",
       "      <td>pm25</td>\n",
       "      <td>2020-06-28</td>\n",
       "      <td>2020-06-28</td>\n",
       "      <td>33.9995</td>\n",
       "      <td>-117.416</td>\n",
       "      <td>11</td>\n",
       "      <td>3</td>\n",
       "    </tr>\n",
       "    <tr>\n",
       "      <th>1</th>\n",
       "      <td>PHOENIX JLG SUPERSIT</td>\n",
       "      <td>PHOENIX</td>\n",
       "      <td>AZ</td>\n",
       "      <td>US</td>\n",
       "      <td>6.0</td>\n",
       "      <td>µg/m³</td>\n",
       "      <td>pm25</td>\n",
       "      <td>2020-06-28</td>\n",
       "      <td>2020-06-28</td>\n",
       "      <td>33.5036</td>\n",
       "      <td>-112.095</td>\n",
       "      <td>11</td>\n",
       "      <td>4</td>\n",
       "    </tr>\n",
       "    <tr>\n",
       "      <th>2</th>\n",
       "      <td>CHILDREN'S PARK SITE</td>\n",
       "      <td>TUCSON</td>\n",
       "      <td>AZ</td>\n",
       "      <td>US</td>\n",
       "      <td>6.0</td>\n",
       "      <td>µg/m³</td>\n",
       "      <td>pm25</td>\n",
       "      <td>2020-06-28</td>\n",
       "      <td>2020-06-28</td>\n",
       "      <td>32.2953</td>\n",
       "      <td>-110.982</td>\n",
       "      <td>11</td>\n",
       "      <td>4</td>\n",
       "    </tr>\n",
       "    <tr>\n",
       "      <th>3</th>\n",
       "      <td>ROSE ELEMENTARY</td>\n",
       "      <td>TUCSON</td>\n",
       "      <td>AZ</td>\n",
       "      <td>US</td>\n",
       "      <td>10.0</td>\n",
       "      <td>µg/m³</td>\n",
       "      <td>pm25</td>\n",
       "      <td>2020-06-28</td>\n",
       "      <td>2020-06-28</td>\n",
       "      <td>32.1731</td>\n",
       "      <td>-110.980</td>\n",
       "      <td>11</td>\n",
       "      <td>4</td>\n",
       "    </tr>\n",
       "    <tr>\n",
       "      <th>4</th>\n",
       "      <td>GERONIMO</td>\n",
       "      <td>TUCSON</td>\n",
       "      <td>AZ</td>\n",
       "      <td>US</td>\n",
       "      <td>12.0</td>\n",
       "      <td>µg/m³</td>\n",
       "      <td>pm25</td>\n",
       "      <td>2020-06-28</td>\n",
       "      <td>2020-06-28</td>\n",
       "      <td>32.2500</td>\n",
       "      <td>-110.967</td>\n",
       "      <td>11</td>\n",
       "      <td>4</td>\n",
       "    </tr>\n",
       "  </tbody>\n",
       "</table>\n",
       "</div>"
      ],
      "text/plain": [
       "               location       city state country  value   unit parameter  \\\n",
       "0  RIVERSIDE - RUBIDOUX  RIVERSIDE    CA      US    8.0  µg/m³      pm25   \n",
       "1  PHOENIX JLG SUPERSIT    PHOENIX    AZ      US    6.0  µg/m³      pm25   \n",
       "2  CHILDREN'S PARK SITE     TUCSON    AZ      US    6.0  µg/m³      pm25   \n",
       "3       ROSE ELEMENTARY     TUCSON    AZ      US   10.0  µg/m³      pm25   \n",
       "4              GERONIMO     TUCSON    AZ      US   12.0  µg/m³      pm25   \n",
       "\n",
       "          utc       local  latitude  longitude  hour_utc  hour_local  \n",
       "0  2020-06-28  2020-06-28   33.9995   -117.416        11           3  \n",
       "1  2020-06-28  2020-06-28   33.5036   -112.095        11           4  \n",
       "2  2020-06-28  2020-06-28   32.2953   -110.982        11           4  \n",
       "3  2020-06-28  2020-06-28   32.1731   -110.980        11           4  \n",
       "4  2020-06-28  2020-06-28   32.2500   -110.967        11           4  "
      ]
     },
     "execution_count": 11,
     "metadata": {},
     "output_type": "execute_result"
    }
   ],
   "source": [
    "query = \"SELECT p.location, p.city, s.state, p.country, p.value, p.unit, p.parameter, p.utc, p.local, p.latitude, p.longitude, p.hour_utc, p.hour_local FROM pollution p join state s on p.latitude >= s.min_lat and p.latitude <= s.max_lat and p.longitude >= s.min_long and p.longitude <= s.max_long and s.city = p.city\"\n",
    "merged = pd.read_sql(query, mydb)\n",
    "merged.head()"
   ]
  },
  {
   "cell_type": "markdown",
   "metadata": {},
   "source": [
    "Create 'merged' table in MySQL"
   ]
  },
  {
   "cell_type": "code",
   "execution_count": 12,
   "metadata": {},
   "outputs": [],
   "source": [
    "# cur = mydb.cursor()\n",
    "\n",
    "# cur.execute(\"CREATE TABLE merged (location VARCHAR(50), city VARCHAR(50), state VARCHAR(50), country VARCHAR(50), value FLOAT(10), unit VARCHAR(50), parameter VARCHAR(50), utc DATE, local DATE, latitude FLOAT(10), longitude FLOAT(10), hour_utc INT, hour_local INT)\")\n",
    "\n",
    "# print(\"Table created successfully\")"
   ]
  },
  {
   "cell_type": "markdown",
   "metadata": {},
   "source": [
    "Populate 'merged' table with 'merged' dataframe create above"
   ]
  },
  {
   "cell_type": "code",
   "execution_count": 13,
   "metadata": {},
   "outputs": [
    {
     "data": {
      "text/plain": [
       "True"
      ]
     },
     "execution_count": 13,
     "metadata": {},
     "output_type": "execute_result"
    }
   ],
   "source": [
    "cur = mydb.cursor()\n",
    "\n",
    "# creating column list for insertion\n",
    "cols = \",\".join([str(i) for i in merged.columns.tolist()])\n",
    "\n",
    "# Insert DataFrame recrds one by one.\n",
    "for i,row in merged.iterrows():\n",
    "    sql = \"INSERT INTO merged (\" +cols+ \") VALUES (\" + \"%s,\"*(len(row)-1) + \"%s)\"\n",
    "    cur.execute(sql, tuple(row))\n",
    "    \n",
    "mydb.commit()\n",
    "cur.close()"
   ]
  },
  {
   "cell_type": "markdown",
   "metadata": {},
   "source": [
    "Let's save both the unmerged and merged data to aws bucket for backup"
   ]
  },
  {
   "cell_type": "markdown",
   "metadata": {},
   "source": [
    "Starting with unmerged"
   ]
  },
  {
   "cell_type": "code",
   "execution_count": 14,
   "metadata": {},
   "outputs": [
    {
     "name": "stdout",
     "output_type": "stream",
     "text": [
      "Done\n"
     ]
    }
   ],
   "source": [
    "# First export to disk (can be deleted after)\n",
    "path_unmerged = \"/Users/halabanz/Desktop/openaq_project/unmerged/\" + yesterday \n",
    "df.to_csv(path_unmerged, index = None, header=True)\n",
    "\n",
    "# export to bucket\n",
    "aws_key_unmerged = \"unmerged/\" \n",
    "\n",
    "from botocore.client import Config\n",
    "\n",
    "ACCESS_KEY_ID = '*******'\n",
    "ACCESS_SECRET_KEY = '*********'\n",
    "BUCKET_NAME = 'openaqhajime' #created a bucket in aws\n",
    "\n",
    "data = open(path_unmerged, 'rb')\n",
    "\n",
    "s3 = boto3.resource(\n",
    "    's3',\n",
    "    aws_access_key_id = ACCESS_KEY_ID,\n",
    "    aws_secret_access_key = ACCESS_SECRET_KEY,\n",
    "    config = Config(signature_version='s3v4')\n",
    ")\n",
    "\n",
    "s3.Bucket(BUCKET_NAME).put_object(Key = aws_key_unmerged, Body = data)\n",
    "\n",
    "print (\"Done\")"
   ]
  },
  {
   "cell_type": "markdown",
   "metadata": {},
   "source": [
    "Then merged"
   ]
  },
  {
   "cell_type": "code",
   "execution_count": 15,
   "metadata": {},
   "outputs": [
    {
     "name": "stdout",
     "output_type": "stream",
     "text": [
      "Done\n"
     ]
    }
   ],
   "source": [
    "path_merged = \"/Users/halabanz/Desktop/openaq_project/merged/\" + yesterday \n",
    "merged.to_csv(path_merged, index = None, header=True)\n",
    "\n",
    "aws_key_merged = \"merged/\"  \n",
    "\n",
    "from botocore.client import Config\n",
    "\n",
    "ACCESS_KEY_ID = '******'\n",
    "ACCESS_SECRET_KEY = '*********'\n",
    "BUCKET_NAME = 'openaqhajime' #created a bucket in aws\n",
    "\n",
    "data = open(path_merged, 'rb')\n",
    "\n",
    "s3 = boto3.resource(\n",
    "    's3',\n",
    "    aws_access_key_id = ACCESS_KEY_ID,\n",
    "    aws_secret_access_key = ACCESS_SECRET_KEY,\n",
    "    config = Config(signature_version='s3v4')\n",
    ")\n",
    "\n",
    "s3.Bucket(BUCKET_NAME).put_object(Key = aws_key_merged, Body = data)\n",
    "\n",
    "print (\"Done\")"
   ]
  },
  {
   "cell_type": "markdown",
   "metadata": {},
   "source": [
    "# 'merged' table can now be accessed in Tableau to produce real time visuals!!"
   ]
  }
 ],
 "metadata": {
  "kernelspec": {
   "display_name": "Python 3",
   "language": "python",
   "name": "python3"
  },
  "language_info": {
   "codemirror_mode": {
    "name": "ipython",
    "version": 3
   },
   "file_extension": ".py",
   "mimetype": "text/x-python",
   "name": "python",
   "nbconvert_exporter": "python",
   "pygments_lexer": "ipython3",
   "version": "3.7.1"
  }
 },
 "nbformat": 4,
 "nbformat_minor": 2
}
